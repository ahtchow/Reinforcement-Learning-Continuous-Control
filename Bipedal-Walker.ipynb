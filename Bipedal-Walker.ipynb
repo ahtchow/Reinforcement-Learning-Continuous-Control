{
 "cells": [
  {
   "cell_type": "markdown",
   "metadata": {},
   "source": [
    "# Deep Deterministic Policy Gradients (DDPG)\n",
    "---\n",
    "In this notebook, we train DDPG with [OpenAI Gym's BipedalWalker-v2 environment](https://gym.openai.com/envs/BipedalWalker-v2/).\n",
    "\n",
    "Reward is given for moving forward, total 300+ points up to the far end. If the robot falls, it gets -100. Applying motor torque costs a small amount of points, more optimal agent will get better score. State consists of hull angle speed, angular velocity, horizontal speed, vertical speed, position of joints and joints angular speed, legs contact with ground, and 10 lidar rangefinder measurements. There's no coordinates in the state vector.\n",
    "\n",
    "### 1. Import the Necessary Packages"
   ]
  },
  {
   "cell_type": "code",
   "execution_count": 1,
   "metadata": {},
   "outputs": [],
   "source": [
    "import gym\n",
    "import random\n",
    "import torch\n",
    "import numpy as np\n",
    "from collections import deque\n",
    "from TD3_agent import TD3\n",
    "\n",
    "import matplotlib.pyplot as plt\n",
    "%matplotlib inline"
   ]
  },
  {
   "cell_type": "markdown",
   "metadata": {},
   "source": [
    "### 2. Instantiate the Environment and Agent"
   ]
  },
  {
   "cell_type": "code",
   "execution_count": 2,
   "metadata": {},
   "outputs": [
    {
     "name": "stdout",
     "output_type": "stream",
     "text": [
      "Action Size: 4\n",
      "Action High: [1. 1. 1. 1.]\n",
      "Action Low: [-1. -1. -1. -1.]\n",
      "State Size: 24\n",
      "State High: [inf inf inf inf inf inf inf inf inf inf inf inf inf inf inf inf inf inf\n",
      " inf inf inf inf inf inf]\n",
      "State Low: [-inf -inf -inf -inf -inf -inf -inf -inf -inf -inf -inf -inf -inf -inf\n",
      " -inf -inf -inf -inf -inf -inf -inf -inf -inf -inf]\n"
     ]
    },
    {
     "name": "stderr",
     "output_type": "stream",
     "text": [
      "C:\\Users\\ad55a\\anaconda3\\lib\\site-packages\\gym\\logger.py:30: UserWarning: \u001b[33mWARN: Box bound precision lowered by casting to float32\u001b[0m\n",
      "  warnings.warn(colorize('%s: %s'%('WARN', msg % args), 'yellow'))\n"
     ]
    }
   ],
   "source": [
    "env = gym.make('BipedalWalker-v3')\n",
    "env.seed(10)\n",
    "action_size = env.action_space.shape[0]\n",
    "state_size = env.observation_space.shape[0]\n",
    "\n",
    "print('Action Size:', action_size)\n",
    "print('Action High:', env.action_space.high)\n",
    "print('Action Low:', env.action_space.low)\n",
    "print('State Size:', state_size)\n",
    "print('State High:', env.observation_space.high)\n",
    "print('State Low:', env.observation_space.low)"
   ]
  },
  {
   "cell_type": "code",
   "execution_count": 3,
   "metadata": {},
   "outputs": [],
   "source": [
    "agent = TD3(state_size=state_size, action_size=action_size, random_seed=10)"
   ]
  },
  {
   "cell_type": "markdown",
   "metadata": {},
   "source": [
    "### 3. Train the Agent with DDPG\n",
    "\n",
    "Run the code cell below to train the agent from scratch.  Alternatively, you can skip to the next code cell to load the pre-trained weights from file."
   ]
  },
  {
   "cell_type": "code",
   "execution_count": 4,
   "metadata": {},
   "outputs": [],
   "source": [
    "from tqdm.notebook import tqdm\n",
    "\n",
    "def td3(n_episodes=2000, max_t=300):\n",
    "    \n",
    "    scores_deque = deque(maxlen=100)\n",
    "    scores = []\n",
    "    max_score = -np.Inf\n",
    "    \n",
    "    for i_episode in tqdm(range(1, n_episodes+1)):\n",
    "        \n",
    "        state = env.reset()\n",
    "        agent.reset()\n",
    "        score = 0\n",
    "        \n",
    "        for t in range(max_t):\n",
    "            \n",
    "            action = agent.act(state)\n",
    "            next_state, reward, done, _ = env.step(action)\n",
    "            agent.step(state, action, reward, next_state, done, t)\n",
    "            \n",
    "            state = next_state\n",
    "            score += reward\n",
    "        \n",
    "            if done:\n",
    "                break\n",
    "                \n",
    "        scores_deque.append(score)\n",
    "        scores.append(score)\n",
    "        \n",
    "        print('\\rEpisode {}\\tAverage Score: {:.2f}\\tScore: {:.2f}'.format(i_episode, np.mean(scores_deque), score), end=\"\")\n",
    "        if i_episode % 100 == 0:\n",
    "            torch.save(agent.actor_local.state_dict(), 'checkpoint_actor.pth')\n",
    "            torch.save(agent.critic_1.state_dict(), 'checkpoint_critic_1.pth')\n",
    "            torch.save(agent.critic_2.state_dict(), 'checkpoint_critic_2.pth')\n",
    "            print('\\rEpisode {}\\tAverage Score: {:.2f}'.format(i_episode, np.mean(scores_deque)))   \n",
    "    return scores"
   ]
  },
  {
   "cell_type": "code",
   "execution_count": 5,
   "metadata": {},
   "outputs": [
    {
     "data": {
      "application/vnd.jupyter.widget-view+json": {
       "model_id": "f116108b6ccc4d4a868d72528c728751",
       "version_major": 2,
       "version_minor": 0
      },
      "text/plain": [
       "HBox(children=(HTML(value=''), FloatProgress(value=0.0, max=2000.0), HTML(value='')))"
      ]
     },
     "metadata": {},
     "output_type": "display_data"
    },
    {
     "name": "stdout",
     "output_type": "stream",
     "text": [
      "Episode 100\tAverage Score: -65.38\tScore: -34.189\n",
      "Episode 200\tAverage Score: -79.59\tScore: -102.88\n",
      "Episode 300\tAverage Score: -104.65\tScore: -103.14\n",
      "Episode 400\tAverage Score: -105.52\tScore: -107.64\n",
      "Episode 500\tAverage Score: -102.33\tScore: -101.85\n",
      "Episode 600\tAverage Score: -102.25\tScore: -103.87\n",
      "Episode 700\tAverage Score: -103.65\tScore: -106.55\n",
      "Episode 800\tAverage Score: -103.03\tScore: -109.81\n",
      "Episode 900\tAverage Score: -95.29\tScore: -107.125\n",
      "Episode 1000\tAverage Score: -113.63\tScore: -118.39\n",
      "Episode 1100\tAverage Score: -101.07\tScore: -116.27\n",
      "Episode 1200\tAverage Score: -88.21\tScore: -109.564\n",
      "Episode 1300\tAverage Score: -96.14\tScore: -108.993\n",
      "Episode 1400\tAverage Score: -102.29\tScore: -105.96\n",
      "Episode 1500\tAverage Score: -103.36\tScore: -103.43\n",
      "Episode 1600\tAverage Score: -104.08\tScore: -112.76\n",
      "Episode 1700\tAverage Score: -83.18\tScore: -115.358\n",
      "Episode 1800\tAverage Score: -87.12\tScore: -32.5002\n",
      "Episode 1900\tAverage Score: -78.37\tScore: -108.75\n",
      "Episode 2000\tAverage Score: -113.46\tScore: -120.36\n",
      "\n"
     ]
    },
    {
     "data": {
      "image/png": "[encoded data removed]",
      "text/plain": [
       "<Figure size 432x288 with 1 Axes>"
      ]
     },
     "metadata": {
      "needs_background": "light"
     },
     "output_type": "display_data"
    }
   ],
   "source": [
    "scores = td3()\n",
    "\n",
    "fig = plt.figure()\n",
    "ax = fig.add_subplot(111)\n",
    "plt.plot(np.arange(1, len(scores)+1), scores)\n",
    "plt.ylabel('Score')\n",
    "plt.xlabel('Episode #')\n",
    "plt.show()"
   ]
  },
  {
   "cell_type": "markdown",
   "metadata": {},
   "source": [
    "### 4. Watch a Smart Agent!\n",
    "\n",
    "In the next code cell, you will load the trained weights from file to watch a smart agent!"
   ]
  },
  {
   "cell_type": "code",
   "execution_count": 18,
   "metadata": {},
   "outputs": [
    {
     "name": "stdout",
     "output_type": "stream",
     "text": [
      "-116.97208590885501\n"
     ]
    }
   ],
   "source": [
    "agent = TD3(state_size=state_size, action_size=action_size, random_seed=100)\n",
    "agent.actor_local.load_state_dict(torch.load('checkpoint_actor.pth'))\n",
    "agent.critic_1.load_state_dict(torch.load('checkpoint_critic_1.pth'))\n",
    "agent.critic_2.load_state_dict(torch.load('checkpoint_critic_2.pth'))\n",
    "\n",
    "state = env.reset()\n",
    "agent.reset()\n",
    "score = []\n",
    "while True:\n",
    "    action = agent.act(state)\n",
    "    env.render()\n",
    "    next_state, reward, done, _ = env.step(action)\n",
    "    state = next_state\n",
    "    score.append(reward)\n",
    "    if done:\n",
    "        break\n",
    "\n",
    "print(np.sum(score))         \n",
    "env.close()"
   ]
  },
  {
   "cell_type": "code",
   "execution_count": null,
   "metadata": {},
   "outputs": [],
   "source": []
  }
 ],
 "metadata": {
  "kernelspec": {
   "display_name": "Python 3",
   "language": "python",
   "name": "python3"
  },
  "language_info": {
   "codemirror_mode": {
    "name": "ipython",
    "version": 3
   },
   "file_extension": ".py",
   "mimetype": "text/x-python",
   "name": "python",
   "nbconvert_exporter": "python",
   "pygments_lexer": "ipython3",
   "version": "3.7.6"
  }
 },
 "nbformat": 4,
 "nbformat_minor": 4
}
